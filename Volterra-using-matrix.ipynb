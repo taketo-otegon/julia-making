{
 "cells": [
  {
   "cell_type": "code",
   "execution_count": null,
   "metadata": {},
   "outputs": [],
   "source": [
    "#初期値の設定\n",
    "C1 = C2 = D1 = D2 = 1.0\n",
    "u0 = v0 = 0.7\n",
    "Δt = 0.05"
   ]
  },
  {
   "cell_type": "code",
   "execution_count": 1,
   "metadata": {},
   "outputs": [
    {
     "data": {
      "text/plain": [
       "euler (generic function with 1 method)"
      ]
     },
     "execution_count": 1,
     "metadata": {},
     "output_type": "execute_result"
    }
   ],
   "source": [
    "# without using matrix\n",
    "\n",
    "function euler(u,v)\n",
    "   u_new = (1 + Δt * (  D1 - C1*v ) ) * u\n",
    "   v_new = (1 + Δt * ( -D2 + C2*u ) ) * v\n",
    "   return u_new, v_new \n",
    "end\n"
   ]
  },
  {
   "cell_type": "code",
   "execution_count": 11,
   "metadata": {},
   "outputs": [
    {
     "data": {
      "text/plain": [
       "3×3 Matrix{Int64}:\n",
       " 3  2  1\n",
       " 6  5  4\n",
       " 9  8  7"
      ]
     },
     "execution_count": 11,
     "metadata": {},
     "output_type": "execute_result"
    }
   ],
   "source": [
    "a = [\n",
    "   1 2 3\n",
    "   4 5 6\n",
    "   7 8 9\n",
    "   ]\n",
    "\n",
    "b = [\n",
    "   0 0 1\n",
    "   0 1 0\n",
    "   1 0 0\n",
    "]\n",
    "\n",
    "c = a * b #行列の積\n",
    "c = a .* b #要素ごとの積"
   ]
  },
  {
   "cell_type": "code",
   "execution_count": 14,
   "metadata": {},
   "outputs": [
    {
     "data": {
      "text/plain": [
       "3×3 adjoint(::Matrix{Int64}) with eltype Int64:\n",
       " 1  4  7\n",
       " 2  5  8\n",
       " 3  6  9"
      ]
     },
     "execution_count": 14,
     "metadata": {},
     "output_type": "execute_result"
    }
   ],
   "source": [
    "a/b\n",
    "\n",
    "a'"
   ]
  },
  {
   "cell_type": "code",
   "execution_count": null,
   "metadata": {},
   "outputs": [],
   "source": []
  }
 ],
 "metadata": {
  "kernelspec": {
   "display_name": "Julia 1.8.3",
   "language": "julia",
   "name": "julia-1.8"
  },
  "language_info": {
   "file_extension": ".jl",
   "mimetype": "application/julia",
   "name": "julia",
   "version": "1.8.3"
  },
  "orig_nbformat": 4,
  "vscode": {
   "interpreter": {
    "hash": "d1542c6a82ff64525f5e96cf66ffb83491238934be16a0b219ebd937a1c2e809"
   }
  }
 },
 "nbformat": 4,
 "nbformat_minor": 2
}
