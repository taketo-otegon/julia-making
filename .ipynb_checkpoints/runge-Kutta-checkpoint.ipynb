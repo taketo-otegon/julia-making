{
 "cells": [
  {
   "cell_type": "code",
   "execution_count": 6,
   "metadata": {},
   "outputs": [],
   "source": [
    "using Plots"
   ]
  },
  {
   "cell_type": "code",
   "execution_count": 7,
   "metadata": {},
   "outputs": [
    {
     "data": {
      "text/plain": [
       "r (generic function with 1 method)"
      ]
     },
     "execution_count": 7,
     "metadata": {},
     "output_type": "execute_result"
    }
   ],
   "source": [
    "#関数の定義\n",
    "r(u) = -u+3"
   ]
  },
  {
   "cell_type": "code",
   "execution_count": 8,
   "metadata": {},
   "outputs": [
    {
     "data": {
      "text/plain": [
       "RK (generic function with 1 method)"
      ]
     },
     "execution_count": 8,
     "metadata": {},
     "output_type": "execute_result"
    }
   ],
   "source": [
    "# 初期値の設定\n",
    "\n",
    "t0 = 0.0\n",
    "u0 = 1.0\n",
    "Δt = 0.1\n",
    "n = 200000\n",
    "\n",
    "#ルンゲクッタ法の定義\n",
    "function RK(u)\n",
    "   r1 = r(u)\n",
    "   r2 = r(u + Δt/2 * r1)\n",
    "   r3 = r(u + Δt/2 * r2)\n",
    "   r4 = r(u + Δt * r3)\n",
    "   return u + Δt * (r1 + 2*r2 + 2*r3 + r4)/6\n",
    "end"
   ]
  },
  {
   "cell_type": "code",
   "execution_count": null,
   "metadata": {},
   "outputs": [],
   "source": [
    "#履歴の初期設定\n",
    "t = t0\n",
    "u = u0\n",
    "history = [t u]\n",
    "\n",
    "for n in 1:n\n",
    "   u = RK(u)\n",
    "   t = t + Δt\n",
    "   history = vcat(history,[t u])\n",
    "end"
   ]
  },
  {
   "cell_type": "markdown",
   "metadata": {},
   "source": [
    "https://qiita.com/mametank/items/e7f687ad7a2e468c7403"
   ]
  },
  {
   "cell_type": "code",
   "execution_count": null,
   "metadata": {},
   "outputs": [],
   "source": [
    "\n",
    "plot(history[:,1],history[:,2], xaxis = \"time t\", yaxis = \"u\", leg = false)"
   ]
  },
  {
   "cell_type": "code",
   "execution_count": null,
   "metadata": {},
   "outputs": [],
   "source": []
  }
 ],
 "metadata": {
  "kernelspec": {
   "display_name": "Julia 1.8.3",
   "language": "julia",
   "name": "julia-1.8"
  },
  "language_info": {
   "file_extension": ".jl",
   "mimetype": "application/julia",
   "name": "julia",
   "version": "1.8.3"
  }
 },
 "nbformat": 4,
 "nbformat_minor": 2
}
