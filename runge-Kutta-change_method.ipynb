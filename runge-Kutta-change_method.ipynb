{
 "cells": [
  {
   "cell_type": "code",
   "execution_count": 1,
   "metadata": {},
   "outputs": [],
   "source": [
    "using Plots"
   ]
  },
  {
   "cell_type": "code",
   "execution_count": 6,
   "metadata": {},
   "outputs": [
    {
     "data": {
      "text/plain": [
       "r (generic function with 1 method)"
      ]
     },
     "execution_count": 6,
     "metadata": {},
     "output_type": "execute_result"
    }
   ],
   "source": [
    "#関数の定義\n",
    "r(u) = -u+3"
   ]
  },
  {
   "cell_type": "code",
   "execution_count": 7,
   "metadata": {},
   "outputs": [
    {
     "data": {
      "text/plain": [
       "RK (generic function with 1 method)"
      ]
     },
     "execution_count": 7,
     "metadata": {},
     "output_type": "execute_result"
    }
   ],
   "source": [
    "# 初期値の設定\n",
    "\n",
    "t0 = 0.0\n",
    "u0 = 1.0\n",
    "Δt = 0.1\n",
    "rep = 10000000\n",
    "\n",
    "#ルンゲクッタ法の定義\n",
    "function RK(u)\n",
    "   r1 = r(u)\n",
    "   r2 = r(u + Δt/2 * r1)\n",
    "   r3 = r(u + Δt/2 * r2)\n",
    "   r4 = r(u + Δt * r3)\n",
    "   return u + Δt * (r1 + 2*r2 + 2*r3 + r4)/6\n",
    "end"
   ]
  },
  {
   "cell_type": "code",
   "execution_count": 8,
   "metadata": {},
   "outputs": [],
   "source": [
    "Δt = 0.1\n",
    "u0 = 0.1\n",
    "\n",
    "t = t0  \n",
    "u = u0\n",
    "t_sq = [t]\n",
    "u_sq = [u]\n",
    "\n",
    "for n in 1:rep\n",
    "    u = RK(u)\n",
    "    push!(u_sq, u) \n",
    "    t = t + Δt\n",
    "    push!(t_sq, t)  \n",
    "end"
   ]
  },
  {
   "cell_type": "code",
   "execution_count": 9,
   "metadata": {},
   "outputs": [],
   "source": [
    "\n",
    "plot(t_sq, u_sq, xaxis = \"time t\", yaxis = \"u\", leg = false)"
   ]
  },
  {
   "cell_type": "code",
   "execution_count": null,
   "metadata": {},
   "outputs": [],
   "source": []
  },
  {
   "cell_type": "code",
   "execution_count": null,
   "metadata": {},
   "outputs": [],
   "source": []
  },
  {
   "cell_type": "code",
   "execution_count": null,
   "metadata": {},
   "outputs": [],
   "source": []
  }
 ],
 "metadata": {
  "kernelspec": {
   "display_name": "Julia 1.8.3",
   "language": "julia",
   "name": "julia-1.8"
  },
  "language_info": {
   "file_extension": ".jl",
   "mimetype": "application/julia",
   "name": "julia",
   "version": "1.8.3"
  },
  "orig_nbformat": 4,
  "vscode": {
   "interpreter": {
    "hash": "d1542c6a82ff64525f5e96cf66ffb83491238934be16a0b219ebd937a1c2e809"
   }
  }
 },
 "nbformat": 4,
 "nbformat_minor": 2
}
